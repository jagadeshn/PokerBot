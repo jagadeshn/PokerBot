{
 "cells": [
  {
   "cell_type": "code",
   "execution_count": 1,
   "metadata": {},
   "outputs": [],
   "source": [
    "cardW=57\n",
    "cardH=87\n",
    "cornerXmin=2\n",
    "cornerXmax=10.5\n",
    "cornerYmin=2.5\n",
    "cornerYmax=23\n",
    "\n",
    "# We convert the measures from mm to pixels: multiply by an arbitrary factor 'zoom'\n",
    "# You shouldn't need to change this\n",
    "zoom=4\n",
    "cardW*=zoom\n",
    "cardH*=zoom\n",
    "cornerXmin=int(cornerXmin*zoom)\n",
    "cornerXmax=int(cornerXmax*zoom)\n",
    "cornerYmin=int(cornerYmin*zoom)\n",
    "cornerYmax=int(cornerYmax*zoom)"
   ]
  },
  {
   "cell_type": "code",
   "execution_count": 4,
   "metadata": {},
   "outputs": [],
   "source": [
    "import numpy as np\n",
    "import cv2\n",
    "import os\n",
    "from tqdm import tqdm\n",
    "import random\n",
    "import os\n",
    "import matplotlib.pyplot as plt\n",
    "import matplotlib.image as mpimg\n",
    "import matplotlib.patches as patches\n",
    "import pickle\n",
    "from glob import glob \n",
    "import imgaug as ia\n",
    "from imgaug import augmenters as iaa\n",
    "import shapely\n",
    "#from shapely.geometry import Polygon"
   ]
  },
  {
   "cell_type": "code",
   "execution_count": 7,
   "metadata": {},
   "outputs": [],
   "source": [
    "def display_img(img,polygons=[],channels=\"bgr\",size=9):\n",
    "    \"\"\"\n",
    "        Function to display an inline image, and draw optional polygons (bounding boxes, convex hulls) on it.\n",
    "        Use the param 'channels' to specify the order of the channels (\"bgr\" for an image coming from OpenCV world)\n",
    "    \"\"\"\n",
    "    if not isinstance(polygons,list):\n",
    "        polygons=[polygons]    \n",
    "    if channels==\"bgr\": # bgr (cv2 image)\n",
    "        nb_channels=img.shape[2]\n",
    "        if nb_channels==4:\n",
    "            img=cv2.cvtColor(img,cv2.COLOR_BGRA2RGBA)\n",
    "        else:\n",
    "            img=cv2.cvtColor(img,cv2.COLOR_BGR2RGB)    \n",
    "    fig,ax=plt.subplots(figsize=(size,size))\n",
    "    ax.set_facecolor((0,0,0))\n",
    "    ax.imshow(img)\n",
    "    for polygon in polygons:\n",
    "        # An polygon has either shape (n,2), \n",
    "        # either (n,1,2) if it is a cv2 contour (like convex hull).\n",
    "        # In the latter case, reshape in (n,2)\n",
    "        if len(polygon.shape)==3:\n",
    "            polygon=polygon.reshape(-1,2)\n",
    "        patch=patches.Polygon(polygon,linewidth=1,edgecolor='g',facecolor='none')\n",
    "        ax.add_patch(patch)\n",
    "\n",
    "def give_me_filename(dirname, suffixes, prefix=\"\"):\n",
    "    \"\"\"\n",
    "        Function that returns a filename or a list of filenames in directory 'dirname'\n",
    "        that does not exist yet. If 'suffixes' is a list, one filename per suffix in 'suffixes':\n",
    "        filename = dirname + \"/\" + prefix + random number + \".\" + suffix\n",
    "        Same random number for all the file name\n",
    "        Ex: \n",
    "        > give_me_filename(\"dir\",\"jpg\", prefix=\"prefix\")\n",
    "        'dir/prefix408290659.jpg'\n",
    "        > give_me_filename(\"dir\",[\"jpg\",\"xml\"])\n",
    "        ['dir/877739594.jpg', 'dir/877739594.xml']        \n",
    "    \"\"\"\n",
    "    if not isinstance(suffixes, list):\n",
    "        suffixes=[suffixes]\n",
    "    \n",
    "    suffixes=[p if p[0]=='.' else '.'+p for p in suffixes]\n",
    "          \n",
    "    while True:\n",
    "        bname=\"%09d\"%random.randint(0,999999999)\n",
    "        fnames=[]\n",
    "        for suffix in suffixes:\n",
    "            fname=os.path.join(dirname,prefix+bname+suffix)\n",
    "            if not os.path.isfile(fname):\n",
    "                fnames.append(fname)\n",
    "                \n",
    "        if len(fnames) == len(suffixes): break\n",
    "    \n",
    "    if len(fnames)==1:\n",
    "        return fnames[0]\n",
    "    else:\n",
    "        return fnames\n",
    "#Define global variables\n",
    "\n",
    "data_dir=\"data\" # Directory that will contain all kinds of data (the data we download and the data we generate)\n",
    "\n",
    "if not os.path.isdir(data_dir):\n",
    "    os.makedirs(data_dir)\n",
    "\n",
    "card_suits=['s','h','d','c']\n",
    "card_values=['A','K','Q','J','10','9','8','7','6','5','4','3','2']\n",
    "\n",
    "# Pickle file containing the background images from the DTD\n",
    "backgrounds_pck_fn=data_dir+\"/backgrounds.pck\"\n",
    "\n",
    "# Pickle file containing the card images\n",
    "cards_pck_fn=data_dir+\"/cards.pck\"\n",
    "\n",
    "\n",
    "# imgW,imgH: dimensions of the generated dataset images \n",
    "imgW=720\n",
    "imgH=720\n",
    "\n",
    "\n",
    "refCard=np.array([[0,0],[cardW,0],[cardW,cardH],[0,cardH]],dtype=np.float32)\n",
    "refCardRot=np.array([[cardW,0],[cardW,cardH],[0,cardH],[0,0]],dtype=np.float32)\n",
    "refCornerHL=np.array([[cornerXmin,cornerYmin],[cornerXmax,cornerYmin],[cornerXmax,cornerYmax],[cornerXmin,cornerYmax]],dtype=np.float32)\n",
    "refCornerLR=np.array([[cardW-cornerXmax,cardH-cornerYmax],[cardW-cornerXmin,cardH-cornerYmax],[cardW-cornerXmin,cardH-cornerYmin],[cardW-cornerXmax,cardH-cornerYmin]],dtype=np.float32)\n",
    "refCorners=np.array([refCornerHL,refCornerLR])"
   ]
  },
  {
   "cell_type": "code",
   "execution_count": 23,
   "metadata": {},
   "outputs": [
    {
     "name": "stderr",
     "output_type": "stream",
     "text": [
      "--2020-06-22 19:47:31--  https://www.robots.ox.ac.uk/~vgg/data/dtd/download/dtd-r1.0.1.tar.gz\n",
      "Resolving www.robots.ox.ac.uk (www.robots.ox.ac.uk)... 129.67.94.2\n",
      "Connecting to www.robots.ox.ac.uk (www.robots.ox.ac.uk)|129.67.94.2|:443... connected.\n",
      "ERROR: cannot verify www.robots.ox.ac.uk's certificate, issued by 'CN=AffirmTrust Certificate Authority - OV1,OU=See www.affirmtrust.com/repository,O=AffirmTrust,C=CA':\n",
      "  Self-signed certificate encountered.\n",
      "To connect to www.robots.ox.ac.uk insecurely, use `--no-check-certificate'.\n"
     ]
    }
   ],
   "source": [
    "!wget https://www.robots.ox.ac.uk/~vgg/data/dtd/download/dtd-r1.0.1.tar.gz"
   ]
  },
  {
   "cell_type": "code",
   "execution_count": 22,
   "metadata": {},
   "outputs": [
    {
     "name": "stderr",
     "output_type": "stream",
     "text": [
      "tar: Error opening archive: Failed to open 'dtd-r1.0.1.tar.gz'\n"
     ]
    }
   ],
   "source": [
    "!tar xf dtd-r1.0.1.tar.gz"
   ]
  },
  {
   "cell_type": "code",
   "execution_count": 12,
   "metadata": {},
   "outputs": [
    {
     "name": "stdout",
     "output_type": "stream",
     "text": [
      "Nb of images loaded : 0\n",
      "Saved in : data/backgrounds.pck\n"
     ]
    }
   ],
   "source": [
    "\n",
    "dtd_dir=\"dtd/images/\"\n",
    "bg_images=[]\n",
    "for subdir in glob(dtd_dir+\"/*\"):\n",
    "    for f in glob(subdir+\"/*.jpg\"):\n",
    "        bg_images.append(mpimg.imread(f))\n",
    "print(\"Nb of images loaded :\",len(bg_images))\n",
    "print(\"Saved in :\",backgrounds_pck_fn)\n",
    "pickle.dump(bg_images,open(backgrounds_pck_fn,'wb'))"
   ]
  },
  {
   "cell_type": "code",
   "execution_count": 13,
   "metadata": {},
   "outputs": [
    {
     "name": "stderr",
     "output_type": "stream",
     "text": [
      "'rm' is not recognized as an internal or external command,\n",
      "operable program or batch file.\n"
     ]
    }
   ],
   "source": [
    "# Clean-up\n",
    "!rm -r dtd\n",
    "#!rm dtd-r1.0.1.tar.gz"
   ]
  },
  {
   "cell_type": "code",
   "execution_count": 14,
   "metadata": {},
   "outputs": [
    {
     "name": "stdout",
     "output_type": "stream",
     "text": [
      "Nb of images loaded : 0\n"
     ]
    }
   ],
   "source": [
    "class Backgrounds():\n",
    "    def __init__(self,backgrounds_pck_fn=backgrounds_pck_fn):\n",
    "        self._images=pickle.load(open(backgrounds_pck_fn,'rb'))\n",
    "        self._nb_images=len(self._images)\n",
    "        print(\"Nb of images loaded :\", self._nb_images)\n",
    "    def get_random(self, display=False):\n",
    "        bg=self._images[random.randint(0,self._nb_images-1)]\n",
    "        if display: plt.imshow(bg)\n",
    "        return bg\n",
    "    \n",
    "backgrounds = Backgrounds()"
   ]
  },
  {
   "cell_type": "code",
   "execution_count": 15,
   "metadata": {},
   "outputs": [
    {
     "ename": "ValueError",
     "evalue": "empty range for randrange() (0,0, 0)",
     "output_type": "error",
     "traceback": [
      "\u001b[1;31m---------------------------------------------------------------------------\u001b[0m",
      "\u001b[1;31mValueError\u001b[0m                                Traceback (most recent call last)",
      "\u001b[1;32m<ipython-input-15-0129aa6760f1>\u001b[0m in \u001b[0;36m<module>\u001b[1;34m\u001b[0m\n\u001b[0;32m      1\u001b[0m \u001b[1;31m# Test: display a random background\u001b[0m\u001b[1;33m\u001b[0m\u001b[1;33m\u001b[0m\u001b[1;33m\u001b[0m\u001b[0m\n\u001b[1;32m----> 2\u001b[1;33m \u001b[0m_\u001b[0m\u001b[1;33m=\u001b[0m\u001b[0mbackgrounds\u001b[0m\u001b[1;33m.\u001b[0m\u001b[0mget_random\u001b[0m\u001b[1;33m(\u001b[0m\u001b[0mdisplay\u001b[0m\u001b[1;33m=\u001b[0m\u001b[1;32mTrue\u001b[0m\u001b[1;33m)\u001b[0m\u001b[1;33m\u001b[0m\u001b[1;33m\u001b[0m\u001b[0m\n\u001b[0m",
      "\u001b[1;32m<ipython-input-14-80a61f81cc21>\u001b[0m in \u001b[0;36mget_random\u001b[1;34m(self, display)\u001b[0m\n\u001b[0;32m      5\u001b[0m         \u001b[0mprint\u001b[0m\u001b[1;33m(\u001b[0m\u001b[1;34m\"Nb of images loaded :\"\u001b[0m\u001b[1;33m,\u001b[0m \u001b[0mself\u001b[0m\u001b[1;33m.\u001b[0m\u001b[0m_nb_images\u001b[0m\u001b[1;33m)\u001b[0m\u001b[1;33m\u001b[0m\u001b[1;33m\u001b[0m\u001b[0m\n\u001b[0;32m      6\u001b[0m     \u001b[1;32mdef\u001b[0m \u001b[0mget_random\u001b[0m\u001b[1;33m(\u001b[0m\u001b[0mself\u001b[0m\u001b[1;33m,\u001b[0m \u001b[0mdisplay\u001b[0m\u001b[1;33m=\u001b[0m\u001b[1;32mFalse\u001b[0m\u001b[1;33m)\u001b[0m\u001b[1;33m:\u001b[0m\u001b[1;33m\u001b[0m\u001b[1;33m\u001b[0m\u001b[0m\n\u001b[1;32m----> 7\u001b[1;33m         \u001b[0mbg\u001b[0m\u001b[1;33m=\u001b[0m\u001b[0mself\u001b[0m\u001b[1;33m.\u001b[0m\u001b[0m_images\u001b[0m\u001b[1;33m[\u001b[0m\u001b[0mrandom\u001b[0m\u001b[1;33m.\u001b[0m\u001b[0mrandint\u001b[0m\u001b[1;33m(\u001b[0m\u001b[1;36m0\u001b[0m\u001b[1;33m,\u001b[0m\u001b[0mself\u001b[0m\u001b[1;33m.\u001b[0m\u001b[0m_nb_images\u001b[0m\u001b[1;33m-\u001b[0m\u001b[1;36m1\u001b[0m\u001b[1;33m)\u001b[0m\u001b[1;33m]\u001b[0m\u001b[1;33m\u001b[0m\u001b[1;33m\u001b[0m\u001b[0m\n\u001b[0m\u001b[0;32m      8\u001b[0m         \u001b[1;32mif\u001b[0m \u001b[0mdisplay\u001b[0m\u001b[1;33m:\u001b[0m \u001b[0mplt\u001b[0m\u001b[1;33m.\u001b[0m\u001b[0mimshow\u001b[0m\u001b[1;33m(\u001b[0m\u001b[0mbg\u001b[0m\u001b[1;33m)\u001b[0m\u001b[1;33m\u001b[0m\u001b[1;33m\u001b[0m\u001b[0m\n\u001b[0;32m      9\u001b[0m         \u001b[1;32mreturn\u001b[0m \u001b[0mbg\u001b[0m\u001b[1;33m\u001b[0m\u001b[1;33m\u001b[0m\u001b[0m\n",
      "\u001b[1;32mC:\\LocalDiskD\\ProgrammingRequisites\\Anaconda\\lib\\random.py\u001b[0m in \u001b[0;36mrandint\u001b[1;34m(self, a, b)\u001b[0m\n\u001b[0;32m    220\u001b[0m         \"\"\"\n\u001b[0;32m    221\u001b[0m \u001b[1;33m\u001b[0m\u001b[0m\n\u001b[1;32m--> 222\u001b[1;33m         \u001b[1;32mreturn\u001b[0m \u001b[0mself\u001b[0m\u001b[1;33m.\u001b[0m\u001b[0mrandrange\u001b[0m\u001b[1;33m(\u001b[0m\u001b[0ma\u001b[0m\u001b[1;33m,\u001b[0m \u001b[0mb\u001b[0m\u001b[1;33m+\u001b[0m\u001b[1;36m1\u001b[0m\u001b[1;33m)\u001b[0m\u001b[1;33m\u001b[0m\u001b[1;33m\u001b[0m\u001b[0m\n\u001b[0m\u001b[0;32m    223\u001b[0m \u001b[1;33m\u001b[0m\u001b[0m\n\u001b[0;32m    224\u001b[0m     def _randbelow(self, n, int=int, maxsize=1<<BPF, type=type,\n",
      "\u001b[1;32mC:\\LocalDiskD\\ProgrammingRequisites\\Anaconda\\lib\\random.py\u001b[0m in \u001b[0;36mrandrange\u001b[1;34m(self, start, stop, step, _int)\u001b[0m\n\u001b[0;32m    198\u001b[0m             \u001b[1;32mreturn\u001b[0m \u001b[0mistart\u001b[0m \u001b[1;33m+\u001b[0m \u001b[0mself\u001b[0m\u001b[1;33m.\u001b[0m\u001b[0m_randbelow\u001b[0m\u001b[1;33m(\u001b[0m\u001b[0mwidth\u001b[0m\u001b[1;33m)\u001b[0m\u001b[1;33m\u001b[0m\u001b[1;33m\u001b[0m\u001b[0m\n\u001b[0;32m    199\u001b[0m         \u001b[1;32mif\u001b[0m \u001b[0mstep\u001b[0m \u001b[1;33m==\u001b[0m \u001b[1;36m1\u001b[0m\u001b[1;33m:\u001b[0m\u001b[1;33m\u001b[0m\u001b[1;33m\u001b[0m\u001b[0m\n\u001b[1;32m--> 200\u001b[1;33m             \u001b[1;32mraise\u001b[0m \u001b[0mValueError\u001b[0m\u001b[1;33m(\u001b[0m\u001b[1;34m\"empty range for randrange() (%d,%d, %d)\"\u001b[0m \u001b[1;33m%\u001b[0m \u001b[1;33m(\u001b[0m\u001b[0mistart\u001b[0m\u001b[1;33m,\u001b[0m \u001b[0mistop\u001b[0m\u001b[1;33m,\u001b[0m \u001b[0mwidth\u001b[0m\u001b[1;33m)\u001b[0m\u001b[1;33m)\u001b[0m\u001b[1;33m\u001b[0m\u001b[1;33m\u001b[0m\u001b[0m\n\u001b[0m\u001b[0;32m    201\u001b[0m \u001b[1;33m\u001b[0m\u001b[0m\n\u001b[0;32m    202\u001b[0m         \u001b[1;31m# Non-unit step argument supplied.\u001b[0m\u001b[1;33m\u001b[0m\u001b[1;33m\u001b[0m\u001b[1;33m\u001b[0m\u001b[0m\n",
      "\u001b[1;31mValueError\u001b[0m: empty range for randrange() (0,0, 0)"
     ]
    }
   ],
   "source": [
    "# Test: display a random background\n",
    "_=backgrounds.get_random(display=True)"
   ]
  },
  {
   "cell_type": "code",
   "execution_count": 16,
   "metadata": {},
   "outputs": [
    {
     "data": {
      "text/plain": [
       "<matplotlib.image.AxesImage at 0x26bd3abb2b0>"
      ]
     },
     "execution_count": 16,
     "metadata": {},
     "output_type": "execute_result"
    },
    {
     "data": {
      "image/png": "[encoded data removed]",
      "text/plain": [
       "<Figure size 720x720 with 1 Axes>"
      ]
     },
     "metadata": {
      "needs_background": "light"
     },
     "output_type": "display_data"
    }
   ],
   "source": [
    "bord_size=2 # bord_size alpha=0\n",
    "alphamask=np.ones((cardH,cardW),dtype=np.uint8)*255\n",
    "cv2.rectangle(alphamask,(0,0),(cardW-1,cardH-1),0,bord_size)\n",
    "cv2.line(alphamask,(bord_size*3,0),(0,bord_size*3),0,bord_size)\n",
    "cv2.line(alphamask,(cardW-bord_size*3,0),(cardW,bord_size*3),0,bord_size)\n",
    "cv2.line(alphamask,(0,cardH-bord_size*3),(bord_size*3,cardH),0,bord_size)\n",
    "cv2.line(alphamask,(cardW-bord_size*3,cardH),(cardW,cardH-bord_size*3),0,bord_size)\n",
    "plt.figure(figsize=(10,10))\n",
    "plt.imshow(alphamask)\n"
   ]
  },
  {
   "cell_type": "code",
   "execution_count": 17,
   "metadata": {},
   "outputs": [],
   "source": [
    "def varianceOfLaplacian(img):\n",
    "    \"\"\"\n",
    "    Compute the Laplacian of the image and then return the focus\n",
    "    measure, which is simply the variance of the Laplacian\n",
    "    Source: A.Rosebrock, https://www.pyimagesearch.com/2015/09/07/blur-detection-with-opencv/\n",
    "    \"\"\"\n",
    "    return cv2.Laplacian(img, cv2.CV_64F).var()\n",
    "\n",
    "def extract_card (img, output_fn=None, min_focus=120, debug=False):\n",
    "    \"\"\"\n",
    "    \"\"\"\n",
    "    \n",
    "    imgwarp=None\n",
    "    \n",
    "    # Check the image is not too blurry\n",
    "    focus=varianceOfLaplacian(img)\n",
    "    if focus < min_focus: \n",
    "        if debug: print(\"Focus too low :\", focus)\n",
    "        return False,None\n",
    "    \n",
    "    # Convert in gray color\n",
    "    gray = cv2.cvtColor(img,cv2.COLOR_BGR2GRAY)\n",
    "    \n",
    "    # Noise-reducing and edge-preserving filter\n",
    "    gray=cv2.bilateralFilter(gray,11,17,17)\n",
    "    \n",
    "    # Edge extraction\n",
    "    edge=cv2.Canny(gray,30,200)\n",
    "    \n",
    "    # Find the contours in the edged image\n",
    "    _,cnts, _ = cv2.findContours(edge.copy(), cv2.RETR_EXTERNAL, cv2.CHAIN_APPROX_SIMPLE)\n",
    "    \n",
    "    # We suppose that the contour with largest area corresponds to the contour delimiting the card\n",
    "    cnt = sorted(cnts, key = cv2.contourArea, reverse = True)[0]\n",
    "    \n",
    "    # We want to check that 'cnt' is the contour of a rectangular shape\n",
    "    # First, determine 'box', the minimum area bounding rectangle of 'cnt'\n",
    "    # Then compare area of 'cnt' and area of 'box'\n",
    "    # Both areas sould be very close\n",
    "    rect=cv2.minAreaRect(cnt)\n",
    "    box=cv2.boxPoints(rect)\n",
    "    box=np.int0(box)\n",
    "    areaCnt=cv2.contourArea(cnt)\n",
    "    areaBox=cv2.contourArea(box)\n",
    "    valid=areaCnt/areaBox>0.95\n",
    "    \n",
    "    if valid:\n",
    "        # We want transform the zone inside the contour into the reference rectangle of dimensions (cardW,cardH)\n",
    "        ((xr,yr),(wr,hr),thetar)=rect\n",
    "        # Determine 'Mp' the transformation that transforms 'box' into the reference rectangle\n",
    "        if wr>hr:\n",
    "            Mp=cv2.getPerspectiveTransform(np.float32(box),refCard)\n",
    "        else:\n",
    "            Mp=cv2.getPerspectiveTransform(np.float32(box),refCardRot)\n",
    "        # Determine the warped image by applying the transformation to the image\n",
    "        imgwarp=cv2.warpPerspective(img,Mp,(cardW,cardH))\n",
    "        # Add alpha layer\n",
    "        imgwarp=cv2.cvtColor(imgwarp,cv2.COLOR_BGR2BGRA)\n",
    "        \n",
    "        # Shape of 'cnt' is (n,1,2), type=int with n = number of points\n",
    "        # We reshape into (1,n,2), type=float32, before feeding to perspectiveTransform\n",
    "        cnta=cnt.reshape(1,-1,2).astype(np.float32)\n",
    "        # Apply the transformation 'Mp' to the contour\n",
    "        cntwarp=cv2.perspectiveTransform(cnta,Mp)\n",
    "        cntwarp=cntwarp.astype(np.int)\n",
    "        \n",
    "        # We build the alpha channel so that we have transparency on the\n",
    "        # external border of the card\n",
    "        # First, initialize alpha channel fully transparent\n",
    "        alphachannel=np.zeros(imgwarp.shape[:2],dtype=np.uint8)\n",
    "        # Then fill in the contour to make opaque this zone of the card \n",
    "        cv2.drawContours(alphachannel,cntwarp,0,255,-1)\n",
    "        \n",
    "        # Apply the alphamask onto the alpha channel to clean it\n",
    "        alphachannel=cv2.bitwise_and(alphachannel,alphamask)\n",
    "        \n",
    "        # Add the alphachannel to the warped image\n",
    "        imgwarp[:,:,3]=alphachannel\n",
    "        \n",
    "        # Save the image to file\n",
    "        if output_fn is not None:\n",
    "            cv2.imwrite(output_fn,imgwarp)\n",
    "        \n",
    "    if debug:\n",
    "        cv2.imshow(\"Gray\",gray)\n",
    "        cv2.imshow(\"Canny\",edge)\n",
    "        edge_bgr=cv2.cvtColor(edge,cv2.COLOR_GRAY2BGR)\n",
    "        cv2.drawContours(edge_bgr,[box],0,(0,0,255),3)\n",
    "        cv2.drawContours(edge_bgr,[cnt],0,(0,255,0),-1)\n",
    "        cv2.imshow(\"Contour with biggest area\",edge_bgr)\n",
    "        if valid:\n",
    "            cv2.imshow(\"Alphachannel\",alphachannel)\n",
    "            cv2.imshow(\"Extracted card\",imgwarp)\n",
    "\n",
    "    return valid,imgwarp"
   ]
  },
  {
   "cell_type": "code",
   "execution_count": 18,
   "metadata": {},
   "outputs": [
    {
     "ename": "AttributeError",
     "evalue": "'NoneType' object has no attribute 'shape'",
     "output_type": "error",
     "traceback": [
      "\u001b[1;31m---------------------------------------------------------------------------\u001b[0m",
      "\u001b[1;31mAttributeError\u001b[0m                            Traceback (most recent call last)",
      "\u001b[1;32m<ipython-input-18-952e552b7844>\u001b[0m in \u001b[0;36m<module>\u001b[1;34m\u001b[0m\n\u001b[0;32m      2\u001b[0m \u001b[0mdebug\u001b[0m\u001b[1;33m=\u001b[0m\u001b[1;32mFalse\u001b[0m\u001b[1;33m\u001b[0m\u001b[1;33m\u001b[0m\u001b[0m\n\u001b[0;32m      3\u001b[0m \u001b[0mimg\u001b[0m\u001b[1;33m=\u001b[0m\u001b[0mcv2\u001b[0m\u001b[1;33m.\u001b[0m\u001b[0mimread\u001b[0m\u001b[1;33m(\u001b[0m\u001b[1;34m\"test/scene.png\"\u001b[0m\u001b[1;33m)\u001b[0m\u001b[1;33m\u001b[0m\u001b[1;33m\u001b[0m\u001b[0m\n\u001b[1;32m----> 4\u001b[1;33m \u001b[0mdisplay_img\u001b[0m\u001b[1;33m(\u001b[0m\u001b[0mimg\u001b[0m\u001b[1;33m)\u001b[0m\u001b[1;33m\u001b[0m\u001b[1;33m\u001b[0m\u001b[0m\n\u001b[0m\u001b[0;32m      5\u001b[0m \u001b[0mvalid\u001b[0m\u001b[1;33m,\u001b[0m\u001b[0mcard\u001b[0m\u001b[1;33m=\u001b[0m\u001b[0mextract_card\u001b[0m\u001b[1;33m(\u001b[0m\u001b[0mimg\u001b[0m\u001b[1;33m,\u001b[0m\u001b[1;34m\"test/extracted_card.png\"\u001b[0m\u001b[1;33m,\u001b[0m \u001b[0mdebug\u001b[0m\u001b[1;33m=\u001b[0m\u001b[0mdebug\u001b[0m\u001b[1;33m)\u001b[0m\u001b[1;33m\u001b[0m\u001b[1;33m\u001b[0m\u001b[0m\n\u001b[0;32m      6\u001b[0m \u001b[1;32mif\u001b[0m \u001b[0mvalid\u001b[0m\u001b[1;33m:\u001b[0m\u001b[1;33m\u001b[0m\u001b[1;33m\u001b[0m\u001b[0m\n",
      "\u001b[1;32m<ipython-input-7-af02b79d1a4b>\u001b[0m in \u001b[0;36mdisplay_img\u001b[1;34m(img, polygons, channels, size)\u001b[0m\n\u001b[0;32m      7\u001b[0m         \u001b[0mpolygons\u001b[0m\u001b[1;33m=\u001b[0m\u001b[1;33m[\u001b[0m\u001b[0mpolygons\u001b[0m\u001b[1;33m]\u001b[0m\u001b[1;33m\u001b[0m\u001b[1;33m\u001b[0m\u001b[0m\n\u001b[0;32m      8\u001b[0m     \u001b[1;32mif\u001b[0m \u001b[0mchannels\u001b[0m\u001b[1;33m==\u001b[0m\u001b[1;34m\"bgr\"\u001b[0m\u001b[1;33m:\u001b[0m \u001b[1;31m# bgr (cv2 image)\u001b[0m\u001b[1;33m\u001b[0m\u001b[1;33m\u001b[0m\u001b[0m\n\u001b[1;32m----> 9\u001b[1;33m         \u001b[0mnb_channels\u001b[0m\u001b[1;33m=\u001b[0m\u001b[0mimg\u001b[0m\u001b[1;33m.\u001b[0m\u001b[0mshape\u001b[0m\u001b[1;33m[\u001b[0m\u001b[1;36m2\u001b[0m\u001b[1;33m]\u001b[0m\u001b[1;33m\u001b[0m\u001b[1;33m\u001b[0m\u001b[0m\n\u001b[0m\u001b[0;32m     10\u001b[0m         \u001b[1;32mif\u001b[0m \u001b[0mnb_channels\u001b[0m\u001b[1;33m==\u001b[0m\u001b[1;36m4\u001b[0m\u001b[1;33m:\u001b[0m\u001b[1;33m\u001b[0m\u001b[1;33m\u001b[0m\u001b[0m\n\u001b[0;32m     11\u001b[0m             \u001b[0mimg\u001b[0m\u001b[1;33m=\u001b[0m\u001b[0mcv2\u001b[0m\u001b[1;33m.\u001b[0m\u001b[0mcvtColor\u001b[0m\u001b[1;33m(\u001b[0m\u001b[0mimg\u001b[0m\u001b[1;33m,\u001b[0m\u001b[0mcv2\u001b[0m\u001b[1;33m.\u001b[0m\u001b[0mCOLOR_BGRA2RGBA\u001b[0m\u001b[1;33m)\u001b[0m\u001b[1;33m\u001b[0m\u001b[1;33m\u001b[0m\u001b[0m\n",
      "\u001b[1;31mAttributeError\u001b[0m: 'NoneType' object has no attribute 'shape'"
     ]
    }
   ],
   "source": [
    "# Test on one image\n",
    "debug=False\n",
    "img=cv2.imread(\"test/scene.png\")\n",
    "display_img(img)\n",
    "valid,card=extract_card(img,\"test/extracted_card.png\", debug=debug)\n",
    "if valid:\n",
    "    display_img(card)\n",
    "if debug:\n",
    "    cv2.waitKey(0)\n",
    "    cv2.destroyAllWindows()"
   ]
  },
  {
   "cell_type": "code",
   "execution_count": null,
   "metadata": {},
   "outputs": [],
   "source": []
  }
 ],
 "metadata": {
  "kernelspec": {
   "display_name": "Python 3",
   "language": "python",
   "name": "python3"
  },
  "language_info": {
   "codemirror_mode": {
    "name": "ipython",
    "version": 3
   },
   "file_extension": ".py",
   "mimetype": "text/x-python",
   "name": "python",
   "nbconvert_exporter": "python",
   "pygments_lexer": "ipython3",
   "version": "3.7.3"
  }
 },
 "nbformat": 4,
 "nbformat_minor": 4
}
